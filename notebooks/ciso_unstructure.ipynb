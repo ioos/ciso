{
 "cells": [
  {
   "cell_type": "markdown",
   "metadata": {},
   "source": [
    "## How to use ciso on unstructured grids"
   ]
  },
  {
   "cell_type": "code",
   "execution_count": null,
   "metadata": {
    "scrolled": false
   },
   "outputs": [],
   "source": [
    "import warnings\n",
    "\n",
    "import iris\n",
    "\n",
    "url = \"http://www.smast.umassd.edu:8080/thredds/dodsC/FVCOM/NECOFS/Forecasts/NECOFS_GOM3_FORECAST.nc\"\n",
    "\n",
    "\n",
    "with warnings.catch_warnings():\n",
    "    warnings.simplefilter(\"ignore\")\n",
    "    cubes = iris.load(url)"
   ]
  },
  {
   "cell_type": "code",
   "execution_count": null,
   "metadata": {},
   "outputs": [],
   "source": [
    "salt = cubes.extract_cube(\"sea_water_salinity\")[-1, :, :]  # Last time step.\n",
    "\n",
    "lon = salt.coord(axis=\"X\").points\n",
    "lat = salt.coord(axis=\"Y\").points"
   ]
  },
  {
   "cell_type": "code",
   "execution_count": null,
   "metadata": {},
   "outputs": [],
   "source": [
    "p = salt.coord(\"sea_surface_height_above_reference_ellipsoid\").points\n",
    "q = salt.data"
   ]
  },
  {
   "cell_type": "code",
   "execution_count": null,
   "metadata": {},
   "outputs": [],
   "source": [
    "import numpy as np\n",
    "from ciso import zslice\n",
    "\n",
    "p0 = -25\n",
    "\n",
    "isoslice = zslice(q, p, -50)"
   ]
  },
  {
   "cell_type": "code",
   "execution_count": null,
   "metadata": {},
   "outputs": [],
   "source": [
    "import numpy.ma as ma\n",
    "\n",
    "# Cannot tricontourf with NaNs.\n",
    "isoslice = ma.masked_invalid(isoslice)\n",
    "vmin, vmax = isoslice.min(), isoslice.max()\n",
    "isoslice = isoslice.filled(fill_value=-999)"
   ]
  },
  {
   "cell_type": "code",
   "execution_count": null,
   "metadata": {},
   "outputs": [],
   "source": [
    "import cartopy.crs as ccrs\n",
    "import matplotlib.pyplot as plt\n",
    "from cartopy.io import shapereader\n",
    "from cartopy.mpl.gridliner import LATITUDE_FORMATTER, LONGITUDE_FORMATTER\n",
    "\n",
    "\n",
    "def make_map(projection=ccrs.PlateCarree()):\n",
    "    fig, ax = plt.subplots(figsize=(9, 13), subplot_kw=dict(projection=projection))\n",
    "    gl = ax.gridlines(draw_labels=True)\n",
    "    gl.right_labels = gl.top_labels = False\n",
    "    gl.xformatter = LONGITUDE_FORMATTER\n",
    "    gl.yformatter = LATITUDE_FORMATTER\n",
    "    ax.coastlines(\"50m\")\n",
    "    return fig, ax"
   ]
  },
  {
   "cell_type": "code",
   "execution_count": null,
   "metadata": {},
   "outputs": [],
   "source": [
    "import gridgeo\n",
    "\n",
    "grid = gridgeo.GridGeo(url, standard_name=\"sea_water_salinity\")"
   ]
  },
  {
   "cell_type": "code",
   "execution_count": null,
   "metadata": {},
   "outputs": [],
   "source": [
    "fig, ax = make_map()\n",
    "extent = [lon.min(), lon.max(), lat.min(), lat.max()]\n",
    "ax.set_extent(extent)\n",
    "\n",
    "levels = np.linspace(vmin, vmax, 20)\n",
    "\n",
    "kw = {\"alpha\": 0.9, \"levels\": levels}\n",
    "cs = ax.tricontourf(grid.triang, isoslice, **kw)\n",
    "\n",
    "kw = {\"shrink\": 0.5, \"orientation\": \"vertical\"}\n",
    "cbar = fig.colorbar(cs, **kw)"
   ]
  }
 ],
 "metadata": {
  "kernelspec": {
   "display_name": "Python 3 (ipykernel)",
   "language": "python",
   "name": "python3"
  },
  "language_info": {
   "codemirror_mode": {
    "name": "ipython",
    "version": 3
   },
   "file_extension": ".py",
   "mimetype": "text/x-python",
   "name": "python",
   "nbconvert_exporter": "python",
   "pygments_lexer": "ipython3",
   "version": "3.10.6"
  }
 },
 "nbformat": 4,
 "nbformat_minor": 1
}
