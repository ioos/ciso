{
 "cells": [
  {
   "cell_type": "markdown",
   "metadata": {},
   "source": [
    "## How to use ciso on structured grids"
   ]
  },
  {
   "cell_type": "code",
   "execution_count": null,
   "metadata": {},
   "outputs": [],
   "source": [
    "import warnings\n",
    "\n",
    "import iris\n",
    "\n",
    "url = \"https://tds.marine.rutgers.edu/thredds/dodsC/roms/doppio/2017_da/avg/Averages_Best_Excluding_Day1\"\n",
    "\n",
    "with warnings.catch_warnings():\n",
    "    warnings.simplefilter(\"ignore\")\n",
    "    cubes = iris.load_raw(url)"
   ]
  },
  {
   "cell_type": "code",
   "execution_count": null,
   "metadata": {},
   "outputs": [],
   "source": [
    "from netCDF4 import Dataset\n",
    "\n",
    "# Last time step.\n",
    "salt = cubes.extract_cube(\"sea_water_practical_salinity\")[-1, ...]\n",
    "with Dataset(url) as nc:\n",
    "    lon = nc[\"lon_rho\"][:]\n",
    "    lat = nc[\"lat_rho\"][:]"
   ]
  },
  {
   "cell_type": "code",
   "execution_count": null,
   "metadata": {},
   "outputs": [],
   "source": [
    "p = salt.coord(\"sea_surface_height_above_reference_ellipsoid\").points\n",
    "q = salt.data"
   ]
  },
  {
   "cell_type": "code",
   "execution_count": null,
   "metadata": {},
   "outputs": [],
   "source": [
    "import numpy as np\n",
    "\n",
    "from ciso import zslice\n",
    "\n",
    "p0 = -250\n",
    "\n",
    "isoslice = zslice(q.astype(np.float64), p, p0)"
   ]
  },
  {
   "cell_type": "code",
   "execution_count": null,
   "metadata": {},
   "outputs": [],
   "source": [
    "import cartopy.crs as ccrs\n",
    "import matplotlib.pyplot as plt\n",
    "from cartopy.mpl.gridliner import LATITUDE_FORMATTER, LONGITUDE_FORMATTER\n",
    "\n",
    "extent = [lon.min(), lon.max(), lat.min(), lat.max()]\n",
    "\n",
    "\n",
    "_plate_carree = ccrs.PlateCarree()\n",
    "\n",
    "\n",
    "def make_map(projection=_plate_carree):\n",
    "    fig, ax = plt.subplots(\n",
    "        figsize=(9, 13),\n",
    "        subplot_kw={\"projection\": projection},\n",
    "    )\n",
    "    gl = ax.gridlines(draw_labels=True)\n",
    "    gl.right_labels = gl.top_labels = False\n",
    "    gl.xformatter = LONGITUDE_FORMATTER\n",
    "    gl.yformatter = LATITUDE_FORMATTER\n",
    "    ax.set_extent(extent)\n",
    "    ax.coastlines(\"50m\")\n",
    "    return fig, ax"
   ]
  },
  {
   "cell_type": "code",
   "execution_count": null,
   "metadata": {},
   "outputs": [],
   "source": [
    "from numpy import ma\n",
    "\n",
    "fig, ax = make_map()\n",
    "\n",
    "cs = ax.pcolormesh(lon, lat, ma.masked_invalid(isoslice))\n",
    "\n",
    "kw = {\"shrink\": 0.5, \"orientation\": \"vertical\", \"extend\": \"both\"}\n",
    "cbar = fig.colorbar(cs, **kw)"
   ]
  }
 ],
 "metadata": {
  "kernelspec": {
   "display_name": "Python 3 (ipykernel)",
   "language": "python",
   "name": "python3"
  },
  "language_info": {
   "codemirror_mode": {
    "name": "ipython",
    "version": 3
   },
   "file_extension": ".py",
   "mimetype": "text/x-python",
   "name": "python",
   "nbconvert_exporter": "python",
   "pygments_lexer": "ipython3",
   "version": "3.13.5"
  }
 },
 "nbformat": 4,
 "nbformat_minor": 1
}
